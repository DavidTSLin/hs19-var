{
 "cells": [
  {
   "cell_type": "code",
   "execution_count": 1,
   "metadata": {},
   "outputs": [],
   "source": [
    "import pandas as pd\n",
    "import numpy as np\n",
    "import json\n",
    "from scipy.spatial.transform import Rotation as R"
   ]
  },
  {
   "cell_type": "code",
   "execution_count": 2,
   "metadata": {},
   "outputs": [],
   "source": [
    "input_curves = pd.read_table('curves.json',header=None).iloc[0,0]"
   ]
  },
  {
   "cell_type": "code",
   "execution_count": 3,
   "metadata": {},
   "outputs": [],
   "source": [
    "jdata = json.loads(input_curves)"
   ]
  },
  {
   "cell_type": "code",
   "execution_count": 4,
   "metadata": {},
   "outputs": [
    {
     "data": {
      "text/plain": [
       "236"
      ]
     },
     "execution_count": 4,
     "metadata": {},
     "output_type": "execute_result"
    }
   ],
   "source": [
    "len(jdata)"
   ]
  },
  {
   "cell_type": "code",
   "execution_count": 5,
   "metadata": {},
   "outputs": [
    {
     "name": "stderr",
     "output_type": "stream",
     "text": [
      "/Users/huidong/anaconda3/envs/STREAM/lib/python3.6/site-packages/ipykernel_launcher.py:17: RuntimeWarning: invalid value encountered in double_scalars\n",
      "/Users/huidong/anaconda3/envs/STREAM/lib/python3.6/site-packages/ipykernel_launcher.py:18: RuntimeWarning: invalid value encountered in double_scalars\n",
      "/Users/huidong/anaconda3/envs/STREAM/lib/python3.6/site-packages/ipykernel_launcher.py:19: RuntimeWarning: invalid value encountered in double_scalars\n"
     ]
    }
   ],
   "source": [
    "list_camera = list()\n",
    "for i in range(len(jdata)):\n",
    "# for i in range(120,140):\n",
    "    x_i = jdata[i]\n",
    "    dict_camera_i = x_i.copy()\n",
    "    if(i==len(jdata)-1):\n",
    "        x_i_next = jdata[i]\n",
    "    else:\n",
    "        x_i_next = jdata[i+1]\n",
    "    if(x_i_next['branch_id'] != x_i['branch_id']):\n",
    "        ##for now when it comes to the end point or branching point, i'm using the point itself as the next point  \n",
    "        ##we can modify it later in JS.\n",
    "        x_i_next = jdata[i]\n",
    "    \n",
    "    vec = np.array([x_i_next['x'] - x_i['x'],x_i_next['y'] - x_i['y'],x_i_next['z'] - x_i['z']])\n",
    "    mag = np.linalg.norm(vec)\n",
    "    dict_camera_i['rotation'] = [np.arccos(vec[0]/mag)*180/np.pi,\n",
    "                                 np.arccos(vec[1]/mag)*180/np.pi,\n",
    "                                 np.arccos(vec[2]/mag)*180/np.pi]\n",
    "    list_camera.append(dict_camera_i)"
   ]
  },
  {
   "cell_type": "code",
   "execution_count": 6,
   "metadata": {},
   "outputs": [
    {
     "data": {
      "text/plain": [
       "[{'branch_id': 'S3_S5',\n",
       "  'pseudotime': 0.0019271269610602309,\n",
       "  'x': -0.06515457628296169,\n",
       "  'y': -0.021784301644704976,\n",
       "  'z': -0.04435394454441773,\n",
       "  'rotation': [66.03768407500867, 73.27744505825859, 29.85019394126952]},\n",
       " {'branch_id': 'S3_S5',\n",
       "  'pseudotime': 0.0038542539221204618,\n",
       "  'x': -0.06437190121392525,\n",
       "  'y': -0.021229794850424227,\n",
       "  'z': -0.04268249000556526,\n",
       "  'rotation': [66.03768407500867, 73.27744505825859, 29.85019394126952]},\n",
       " {'branch_id': 'S3_S5',\n",
       "  'pseudotime': 0.005781380883180693,\n",
       "  'x': -0.06358922614488881,\n",
       "  'y': -0.02067528805614348,\n",
       "  'z': -0.04101103546671279,\n",
       "  'rotation': [66.03768407500829, 73.27744505825864, 29.850193941269815]},\n",
       " {'branch_id': 'S3_S5',\n",
       "  'pseudotime': 0.0077085078442409236,\n",
       "  'x': -0.06280655107585235,\n",
       "  'y': -0.02012078126186273,\n",
       "  'z': -0.039339580927860315,\n",
       "  'rotation': [66.03768407500867, 73.27744505825859, 29.85019394126952]},\n",
       " {'branch_id': 'S3_S5',\n",
       "  'pseudotime': 0.009635634805301154,\n",
       "  'x': -0.062023876006815915,\n",
       "  'y': -0.01956627446758198,\n",
       "  'z': -0.03766812638900784,\n",
       "  'rotation': [66.03768407500867, 73.27744505825859, 29.85019394126952]},\n",
       " {'branch_id': 'S3_S5',\n",
       "  'pseudotime': 0.011562761766361385,\n",
       "  'x': -0.061241200937779475,\n",
       "  'y': -0.019011767673301233,\n",
       "  'z': -0.03599667185015537,\n",
       "  'rotation': [66.03768407500867, 73.27744505825859, 29.85019394126952]},\n",
       " {'branch_id': 'S3_S5',\n",
       "  'pseudotime': 0.013489888727421616,\n",
       "  'x': -0.060458525868743035,\n",
       "  'y': -0.018457260879020485,\n",
       "  'z': -0.0343252173113029,\n",
       "  'rotation': [65.73523892308056, 73.18343357618342, 30.170559999934422]},\n",
       " {'branch_id': 'S3_S5',\n",
       "  'pseudotime': 0.015417015688481847,\n",
       "  'x': -0.05966658371520672,\n",
       "  'y': -0.017899739089344033,\n",
       "  'z': -0.03265918975933594,\n",
       "  'rotation': [65.15515857132415, 73.01967860822774, 30.776403354985405]},\n",
       " {'branch_id': 'S3_S5',\n",
       "  'pseudotime': 0.01734414264954208,\n",
       "  'x': -0.05885688089265005,\n",
       "  'y': -0.017336937111457215,\n",
       "  'z': -0.031003465853996423,\n",
       "  'rotation': [65.01095638732423, 72.98814517309063, 30.921583946250255]}]"
      ]
     },
     "execution_count": 6,
     "metadata": {},
     "output_type": "execute_result"
    }
   ],
   "source": [
    "list_camera[1:10]"
   ]
  },
  {
   "cell_type": "code",
   "execution_count": null,
   "metadata": {},
   "outputs": [],
   "source": []
  }
 ],
 "metadata": {
  "kernelspec": {
   "display_name": "Python [conda env:STREAM]",
   "language": "python",
   "name": "conda-env-STREAM-py"
  },
  "language_info": {
   "codemirror_mode": {
    "name": "ipython",
    "version": 3
   },
   "file_extension": ".py",
   "mimetype": "text/x-python",
   "name": "python",
   "nbconvert_exporter": "python",
   "pygments_lexer": "ipython3",
   "version": "3.6.7"
  }
 },
 "nbformat": 4,
 "nbformat_minor": 2
}
