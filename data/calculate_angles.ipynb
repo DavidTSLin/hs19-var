{
 "cells": [
  {
   "cell_type": "code",
   "execution_count": 1,
   "metadata": {},
   "outputs": [],
   "source": [
    "import pandas as pd\n",
    "import numpy as np\n",
    "import json\n",
    "from scipy.spatial.transform import Rotation as R"
   ]
  },
  {
   "cell_type": "code",
   "execution_count": 2,
   "metadata": {},
   "outputs": [],
   "source": [
    "input_curves = pd.read_table('curves.json',header=None).iloc[0,0]"
   ]
  },
  {
   "cell_type": "code",
   "execution_count": 3,
   "metadata": {},
   "outputs": [],
   "source": [
    "jdata = json.loads(input_curves)"
   ]
  },
  {
   "cell_type": "code",
   "execution_count": 4,
   "metadata": {},
   "outputs": [
    {
     "data": {
      "text/plain": [
       "236"
      ]
     },
     "execution_count": 4,
     "metadata": {},
     "output_type": "execute_result"
    }
   ],
   "source": [
    "len(jdata)"
   ]
  },
  {
   "cell_type": "code",
   "execution_count": 5,
   "metadata": {},
   "outputs": [],
   "source": [
    "list_camera = list()\n",
    "for i in range(len(jdata)):\n",
    "    x_i = jdata[i]\n",
    "    dict_camera_i = x_i.copy()\n",
    "    if(i==len(jdata)-1):\n",
    "        x_i_next = jdata[i]\n",
    "    else:\n",
    "        x_i_next = jdata[i+1]\n",
    "    if(x_i_next['branch_id'] != x_i['branch_id']):\n",
    "        ##for now when it comes to the end point or branching point, i'm using the point itself as the next point  \n",
    "        ##we can modify it later in JS.\n",
    "        x_i_next = jdata[i]\n",
    "    \n",
    "    vec = np.array([x_i_next['x'] - x_i['x'],x_i_next['y'] - x_i['y'],x_i_next['z'] - x_i['z']])\n",
    "    dict_camera_i['rotation'] = [np.arccos(vec[0]),np.arccos(vec[1]),np.arccos(vec[2])]\n",
    "    list_camera.append(dict_camera_i)"
   ]
  },
  {
   "cell_type": "code",
   "execution_count": 6,
   "metadata": {},
   "outputs": [
    {
     "data": {
      "text/plain": [
       "236"
      ]
     },
     "execution_count": 6,
     "metadata": {},
     "output_type": "execute_result"
    }
   ],
   "source": [
    "len(list_camera)"
   ]
  },
  {
   "cell_type": "code",
   "execution_count": null,
   "metadata": {},
   "outputs": [],
   "source": []
  }
 ],
 "metadata": {
  "kernelspec": {
   "display_name": "Python [conda env:STREAM]",
   "language": "python",
   "name": "conda-env-STREAM-py"
  },
  "language_info": {
   "codemirror_mode": {
    "name": "ipython",
    "version": 3
   },
   "file_extension": ".py",
   "mimetype": "text/x-python",
   "name": "python",
   "nbconvert_exporter": "python",
   "pygments_lexer": "ipython3",
   "version": "3.6.7"
  }
 },
 "nbformat": 4,
 "nbformat_minor": 2
}
